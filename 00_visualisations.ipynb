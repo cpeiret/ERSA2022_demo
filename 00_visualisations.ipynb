{
 "cells": [
  {
   "cell_type": "code",
   "execution_count": 12,
   "metadata": {},
   "outputs": [],
   "source": [
    "import geopandas as gpd\n",
    "import streamlit as st\n",
    "from streamlit_image_comparison import image_comparison"
   ]
  },
  {
   "cell_type": "code",
   "execution_count": 4,
   "metadata": {},
   "outputs": [],
   "source": [
    "# load maps\n",
    "access_score_adults = gpd.read_parquet('./results/access_score_adults.parquet')\n",
    "access_score_seniors = gpd.read_parquet('./results/access_score_seniors.parquet')"
   ]
  },
  {
   "cell_type": "code",
   "execution_count": 20,
   "metadata": {},
   "outputs": [],
   "source": [
    "st.set_page_config(page_title=\"Image-Comparison Example\", layout=\"centered\")"
   ]
  },
  {
   "cell_type": "code",
   "execution_count": 21,
   "metadata": {},
   "outputs": [
    {
     "data": {
      "text/plain": [
       "DeltaGenerator(_root_container=0, _provided_cursor=None, _parent=None, _block_type=None, _form_data=None)"
      ]
     },
     "execution_count": 21,
     "metadata": {},
     "output_type": "execute_result"
    }
   ],
   "source": [
    "# image path\n",
    "\n",
    "# image url\n",
    "image = \"https://tinypng.com/images/social/website.jpg\"\n",
    "\n",
    "# # pil image\n",
    "# from PIL import Image\n",
    "# image = Image.open(\"image.jpg\")\n",
    "\n",
    "# # opencv image\n",
    "# import cv2\n",
    "# image = cv2.cvtColor(cv2.imread(\"image.jpg\"), cv2.COLOR_BGR2RGB)\n",
    "\n",
    "# render image-comparison\n",
    "image_comparison(\n",
    "    img1=image,\n",
    "    img2=image,\n",
    ")"
   ]
  }
 ],
 "metadata": {
  "interpreter": {
   "hash": "762edbc2f3fa982f135cf13698b27ade5293e20c1922d70ebbc33677e75fbf95"
  },
  "kernelspec": {
   "display_name": "Python 3.10.2",
   "language": "python",
   "name": "python3"
  },
  "language_info": {
   "codemirror_mode": {
    "name": "ipython",
    "version": 3
   },
   "file_extension": ".py",
   "mimetype": "text/x-python",
   "name": "python",
   "nbconvert_exporter": "python",
   "pygments_lexer": "ipython3",
   "version": "3.10.2"
  },
  "orig_nbformat": 4
 },
 "nbformat": 4,
 "nbformat_minor": 2
}
